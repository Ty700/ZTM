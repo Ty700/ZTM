{
 "cells": [
  {
   "cell_type": "code",
   "execution_count": 1,
   "id": "2778ea2c",
   "metadata": {},
   "outputs": [],
   "source": [
    "from sklearn.datasets import load_iris\n",
    "iris = load_iris() # Skipping steps 1-2\n",
    "# we have our data and assume it's clean\n",
    "# This is step 3 -> Splitting Data"
   ]
  },
  {
   "cell_type": "code",
   "execution_count": 2,
   "id": "963a7b99",
   "metadata": {},
   "outputs": [
    {
     "data": {
      "text/plain": [
       "numpy.ndarray"
      ]
     },
     "execution_count": 2,
     "metadata": {},
     "output_type": "execute_result"
    }
   ],
   "source": [
    "X=iris.data #inputs\n",
    "y=iris.target\n",
    "\n",
    "# We want a function where F(X) = y\n",
    "\n",
    "feature_names = iris.feature_names\n",
    "\n",
    "target_names = iris.target_names\n",
    "\n",
    "# print(feature_names)\n",
    "# print(target_names)\n",
    "\n",
    "type(X) #numpy.ndarray\n",
    "type(y)"
   ]
  },
  {
   "cell_type": "code",
   "execution_count": 3,
   "id": "294d8a44",
   "metadata": {},
   "outputs": [
    {
     "name": "stdout",
     "output_type": "stream",
     "text": [
      "(112, 4)\n",
      "(112,)\n",
      "(38, 4)\n",
      "(112,)\n"
     ]
    }
   ],
   "source": [
    "from sklearn.model_selection import train_test_split\n",
    "X_train, X_test, y_train, Y_test = train_test_split(X, y, test_size=0.25) # 67% for train, 33% for test\n",
    "\n",
    "print(X_train.shape)\n",
    "print(y_train.shape)\n",
    "print(X_test.shape)\n",
    "print(y_train.shape)"
   ]
  },
  {
   "cell_type": "code",
   "execution_count": 4,
   "id": "e5610833",
   "metadata": {},
   "outputs": [],
   "source": [
    "# Now that we have split our data, we can build a model\n",
    "# Step 4\n",
    "\n",
    "from sklearn.neighbors import KNeighborsClassifier\n",
    "\n",
    "knn=KNeighborsClassifier(n_neighbors=3)\n",
    "\n",
    "knn.fit(X_train, y_train)\n",
    "\n",
    "y_predict = knn.predict(X_test)"
   ]
  },
  {
   "cell_type": "code",
   "execution_count": 5,
   "id": "3ea2efeb",
   "metadata": {},
   "outputs": [
    {
     "name": "stdout",
     "output_type": "stream",
     "text": [
      "1.0\n"
     ]
    }
   ],
   "source": [
    "# Now we are testing the accuracy of the model\n",
    "# Step 5\n",
    "from sklearn import metrics\n",
    "\n",
    "print(metrics.accuracy_score(Y_test, y_predict))"
   ]
  },
  {
   "cell_type": "code",
   "execution_count": 6,
   "id": "ad508588",
   "metadata": {},
   "outputs": [],
   "source": [
    "# It is 96% accurate\n",
    "\n",
    "# If we make increase the data to learn from, we get a higher score.\n",
    "# If we lower it, we decrease the score\n",
    "\n",
    "# However, we are shortining the test amounts, so does it really pass every test?\n",
    "\n",
    "# For 25% test, we only test it 38 times.\n",
    "\n",
    "# This is why companies value data, the more data you have the more the machine can learn"
   ]
  }
 ],
 "metadata": {
  "kernelspec": {
   "display_name": "Python 3 (ipykernel)",
   "language": "python",
   "name": "python3"
  },
  "language_info": {
   "codemirror_mode": {
    "name": "ipython",
    "version": 3
   },
   "file_extension": ".py",
   "mimetype": "text/x-python",
   "name": "python",
   "nbconvert_exporter": "python",
   "pygments_lexer": "ipython3",
   "version": "3.11.7"
  }
 },
 "nbformat": 4,
 "nbformat_minor": 5
}
